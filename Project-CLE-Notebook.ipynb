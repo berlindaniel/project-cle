{
 "cells": [
  {
   "cell_type": "markdown",
   "metadata": {},
   "source": [
    "# Project CLE\n",
    "\n",
    "This jupyter notebook will be used as a preliminary mode of investigation to accumulate, analyze, and visualize statistics regarding, among other topics:\n",
    "\n",
    "- CMSD performance and educational inequity\n",
    "- The socioeconomic and racial drivers of this trend\n",
    "- [Insert additional topics as they arise]"
   ]
  },
  {
   "cell_type": "code",
   "execution_count": 64,
   "metadata": {},
   "outputs": [
    {
     "name": "stdout",
     "output_type": "stream",
     "text": [
      "200\n",
      "200\n"
     ]
    }
   ],
   "source": [
    "import requests as reqs\n",
    "\n",
    "ed_api_demographics = \"https://educationdata.urban.org/api/v1/schools/ccd/directory/2018/?city_mailing=CLEVELAND&state_mailing=OH\"\n",
    "ed_api_performance = \"https://educationdata.urban.org/api/v1/schools/edfacts/assessments/2015/grade-11/special-populations/\"\n",
    "\n",
    "# SAMPLE API CALL: https://educationdata.urban.org/api/v1/{topic}/{source}/{endpoint}/{year}/[additional_specifiers _or_disaggregators]/[optional filters]\n",
    "\n",
    "response_demographics = reqs.get(ed_api_demographics)\n",
    "response_performance = reqs.get(ed_api_performance)\n",
    "print(response_demographics.status_code)\n",
    "print(response_performance.status_code)"
   ]
  },
  {
   "cell_type": "code",
   "execution_count": 65,
   "metadata": {},
   "outputs": [
    {
     "name": "stdout",
     "output_type": "stream",
     "text": [
      "Number of Schools in Cleveland: 168\n"
     ]
    }
   ],
   "source": [
    "json_demographics = response_demographics.json()\n",
    "json_performance = response_performance.json()\n",
    "print('Number of Schools in Cleveland:', json_demographics['count'])"
   ]
  },
  {
   "cell_type": "code",
   "execution_count": 60,
   "metadata": {},
   "outputs": [
    {
     "name": "stdout",
     "output_type": "stream",
     "text": [
      "Sample JSON for a Cleveland School: \n",
      "\n",
      " {'year': 2018, 'ncessch': '390001901514', 'school_id': '01514', 'school_name': 'Constellation Schools: Old Brooklyn Community Elementary', 'leaid': '3900019', 'lea_name': 'Constellation Schools: Old Brooklyn Community Elementary', 'state_leaid': 'OH-134098', 'seasch': '134098-134098', 'street_mailing': '4430 State Rd', 'city_mailing': 'Cleveland', 'state_mailing': 'OH', 'zip_mailing': '44109', 'street_location': '4430 State Rd', 'city_location': 'Cleveland', 'state_location': 'OH', 'zip_location': '44109', 'phone': '(216)661-7888', 'fips': 39, 'latitude': 41.43, 'longitude': -81.71, 'csa': '184', 'cbsa': '17460', 'urban_centric_locale': 11, 'county_code': '39035', 'school_level': 1, 'school_type': 1, 'school_status': 1, 'lowest_grade_offered': 0, 'highest_grade_offered': 4, 'bureau_indian_education': None, 'title_i_status': 5, 'title_i_eligible': 1, 'title_i_schoolwide': 1, 'charter': 1, 'magnet': -1, 'shared_time': 0, 'virtual': 0, 'teachers_fte': 17, 'free_lunch': 154, 'reduced_price_lunch': 23, 'free_or_reduced_price_lunch': 177, 'elem_cedp': 1, 'high_cedp': 0, 'middle_cedp': 0, 'ungrade_cedp': 0, 'enrollment': 333, 'state_leg_district_lower': '39015', 'state_leg_district_upper': '39023', 'ncessch_num': 390001901514, 'congress_district_id': 3909, 'direct_certification': None, 'lunch_program': 1}\n"
     ]
    }
   ],
   "source": [
    "print('Sample JSON for a Cleveland School: \\n\\n', json_demographics['results'][0])"
   ]
  },
  {
   "cell_type": "code",
   "execution_count": 61,
   "metadata": {},
   "outputs": [],
   "source": [
    "# Gather high schools in Cleveland\n",
    "cle_hs_arr = []; cle_ncessch_arr\n",
    "for school in json_demographics['results']:\n",
    "    if(school['school_level'] == 3 and school['school_type'] == 1): # filter for \"regular\" high schools\n",
    "        cle_hs_arr.append(school)\n",
    "        cle_ncessch_arr.append(school['ncessch_num'])"
   ]
  },
  {
   "cell_type": "code",
   "execution_count": 69,
   "metadata": {},
   "outputs": [],
   "source": [
    "# Map students' performance from edfacts database -> CLE High schools based on ncessch_num\n",
    "cle_student_arr = []\n",
    "for student in json_performance['results']:\n",
    "    if(student['ncessch_num'] in cle_ncessch_arr):\n",
    "        cle_student_arr.append(student)"
   ]
  }
 ],
 "metadata": {
  "kernelspec": {
   "display_name": "Python 3",
   "language": "python",
   "name": "python3"
  },
  "language_info": {
   "codemirror_mode": {
    "name": "ipython",
    "version": 3
   },
   "file_extension": ".py",
   "mimetype": "text/x-python",
   "name": "python",
   "nbconvert_exporter": "python",
   "pygments_lexer": "ipython3",
   "version": "3.7.3"
  }
 },
 "nbformat": 4,
 "nbformat_minor": 4
}
