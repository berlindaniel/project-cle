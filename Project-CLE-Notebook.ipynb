{
 "cells": [
  {
   "cell_type": "markdown",
   "metadata": {},
   "source": [
    "# Project CLE\n",
    "\n",
    "This jupyter notebook will be used as a preliminary mode of investigation to accumulate, analyze, and visualize statistics regarding, among other topics:\n",
    "\n",
    "- CMSD performance and educational inequity\n",
    "- The socioeconomic and racial drivers of this trend\n",
    "- [Insert additional topics as they arise]"
   ]
  },
  {
   "cell_type": "code",
   "execution_count": 15,
   "metadata": {},
   "outputs": [
    {
     "name": "stdout",
     "output_type": "stream",
     "text": [
      "200\n"
     ]
    }
   ],
   "source": [
    "import requests as reqs\n",
    "\n",
    "ed_api = \"https://educationdata.urban.org/api/v1/schools/ccd/directory/2013/?city_mailing=CLEVELAND&state_mailing=OH\"\n",
    "\n",
    "# SAMPLE API CALL: https://educationdata.urban.org/api/v1/{topic}/{source}/{endpoint}/{year}/[additional_specifiers _or_disaggregators]/[optional filters]\n",
    "\n",
    "response = reqs.get(ed_api)\n",
    "print(response.status_code)"
   ]
  },
  {
   "cell_type": "code",
   "execution_count": 17,
   "metadata": {},
   "outputs": [
    {
     "name": "stdout",
     "output_type": "stream",
     "text": [
      "Number of Schools in Cleveland: 173\n"
     ]
    }
   ],
   "source": [
    "json = response.json()\n",
    "print('Number of Schools in Cleveland:', json['count'])"
   ]
  },
  {
   "cell_type": "code",
   "execution_count": 23,
   "metadata": {},
   "outputs": [
    {
     "name": "stdout",
     "output_type": "stream",
     "text": [
      "Sample JSON for a Cleveland School: \n",
      "\n",
      " {'year': 2013, 'ncessch': '390001901514', 'school_id': '01514', 'school_name': 'CONSTELLATION SCHOOLS: OLD BROOKLYN COMMUNITY ELEM', 'leaid': '3900019', 'lea_name': 'CONSTELLATION SCHOOLS: OLD BROOKLYN COMMUNITY ELEMENTARY', 'state_leaid': '134098', 'seasch': '134098', 'street_mailing': '4430 STATE RD', 'city_mailing': 'CLEVELAND', 'state_mailing': 'OH', 'zip_mailing': '44109', 'street_location': '4430 STATE RD', 'city_location': 'CLEVELAND', 'state_location': 'OH', 'zip_location': '44109', 'phone': '2166617888', 'fips': 39, 'latitude': 41.43, 'longitude': -81.71, 'csa': None, 'cbsa': None, 'urban_centric_locale': 11, 'county_code': '39035', 'school_level': 1, 'school_type': 1, 'school_status': 1, 'lowest_grade_offered': 0, 'highest_grade_offered': 4, 'bureau_indian_education': 0, 'title_i_status': 5, 'title_i_eligible': 1, 'title_i_schoolwide': 1, 'charter': 1, 'magnet': -2, 'shared_time': 0, 'virtual': None, 'teachers_fte': 16, 'free_lunch': 107, 'reduced_price_lunch': 32, 'free_or_reduced_price_lunch': 139, 'elem_cedp': 1, 'high_cedp': 0, 'middle_cedp': 0, 'ungrade_cedp': 0, 'enrollment': 333, 'state_leg_district_lower': '', 'state_leg_district_upper': '', 'ncessch_num': 390001901514, 'congress_district_id': None, 'direct_certification': None, 'lunch_program': None}\n"
     ]
    }
   ],
   "source": [
    "print('Sample JSON for a Cleveland School: \\n\\n', json['results'][0])"
   ]
  },
  {
   "cell_type": "code",
   "execution_count": 24,
   "metadata": {},
   "outputs": [],
   "source": [
    "# further analysis to come"
   ]
  }
 ],
 "metadata": {
  "kernelspec": {
   "display_name": "Python 3",
   "language": "python",
   "name": "python3"
  },
  "language_info": {
   "codemirror_mode": {
    "name": "ipython",
    "version": 3
   },
   "file_extension": ".py",
   "mimetype": "text/x-python",
   "name": "python",
   "nbconvert_exporter": "python",
   "pygments_lexer": "ipython3",
   "version": "3.7.3"
  }
 },
 "nbformat": 4,
 "nbformat_minor": 4
}
